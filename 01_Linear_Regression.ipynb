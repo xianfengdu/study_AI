{
  "nbformat": 4,
  "nbformat_minor": 0,
  "metadata": {
    "colab": {
      "name": "01_Linear_Regression.ipynb",
      "provenance": [],
      "authorship_tag": "ABX9TyPnkSBiWyBmVB2hJ+qK4DvY"
    },
    "kernelspec": {
      "name": "python3",
      "display_name": "Python 3"
    },
    "language_info": {
      "name": "python"
    }
  },
  "cells": [
    {
      "cell_type": "code",
      "metadata": {
        "id": "YlnUmOPQLH3O"
      },
      "source": [
        "from argparse import Namespace\n",
        "import numpy as np\n",
        "import pandas as pd\n",
        "import matplotlib.pyplot as plt"
      ],
      "execution_count": 16,
      "outputs": []
    },
    {
      "cell_type": "markdown",
      "metadata": {
        "id": "95vEIcqu5Iq-"
      },
      "source": [
        "引入运行所需要的库"
      ]
    },
    {
      "cell_type": "code",
      "metadata": {
        "id": "B5SWbx565Nue"
      },
      "source": [
        "#参数\n",
        "args = Namespace(\n",
        "    seed = 1234,\n",
        "    data_file = \"sample_data.csv\",\n",
        "    num_samples = 100,\n",
        "    train_size = 0.75,\n",
        "    test_size = 0.25,\n",
        "    num_epochs = 100\n",
        ")\n",
        "\n",
        "#设置随机种子来保证实验结果的可重复性\n",
        "np.random.seed(args.seed)"
      ],
      "execution_count": 17,
      "outputs": []
    },
    {
      "cell_type": "code",
      "metadata": {
        "id": "HAdR6WPU7oNP"
      },
      "source": [
        "#生成数据\n",
        "def generate_data(num_samples):\n",
        "  X = np.array(range(num_samples))\n",
        "  y = 3.65*X + 10\n",
        "  return X, y\n"
      ],
      "execution_count": 18,
      "outputs": []
    },
    {
      "cell_type": "markdown",
      "metadata": {
        "id": "dDgYY4gib8eQ"
      },
      "source": [
        "np.array生成数组，range()函数生成一个左闭右开的数列"
      ]
    },
    {
      "cell_type": "code",
      "metadata": {
        "colab": {
          "base_uri": "https://localhost:8080/",
          "height": 235
        },
        "id": "GDfcaY-rcM3m",
        "outputId": "328fb2de-406b-40f2-ae8f-241c725db9e3"
      },
      "source": [
        "#生成随机数据\n",
        "X, y = generate_data(args.num_samples)\n",
        "data = np.vstack([X,y]).T\n",
        "df = pd.DataFrame(data, columns=['X','y'])\n",
        "df.head(6)"
      ],
      "execution_count": 19,
      "outputs": [
        {
          "output_type": "execute_result",
          "data": {
            "text/html": [
              "<div>\n",
              "<style scoped>\n",
              "    .dataframe tbody tr th:only-of-type {\n",
              "        vertical-align: middle;\n",
              "    }\n",
              "\n",
              "    .dataframe tbody tr th {\n",
              "        vertical-align: top;\n",
              "    }\n",
              "\n",
              "    .dataframe thead th {\n",
              "        text-align: right;\n",
              "    }\n",
              "</style>\n",
              "<table border=\"1\" class=\"dataframe\">\n",
              "  <thead>\n",
              "    <tr style=\"text-align: right;\">\n",
              "      <th></th>\n",
              "      <th>X</th>\n",
              "      <th>y</th>\n",
              "    </tr>\n",
              "  </thead>\n",
              "  <tbody>\n",
              "    <tr>\n",
              "      <th>0</th>\n",
              "      <td>0.0</td>\n",
              "      <td>10.00</td>\n",
              "    </tr>\n",
              "    <tr>\n",
              "      <th>1</th>\n",
              "      <td>1.0</td>\n",
              "      <td>13.65</td>\n",
              "    </tr>\n",
              "    <tr>\n",
              "      <th>2</th>\n",
              "      <td>2.0</td>\n",
              "      <td>17.30</td>\n",
              "    </tr>\n",
              "    <tr>\n",
              "      <th>3</th>\n",
              "      <td>3.0</td>\n",
              "      <td>20.95</td>\n",
              "    </tr>\n",
              "    <tr>\n",
              "      <th>4</th>\n",
              "      <td>4.0</td>\n",
              "      <td>24.60</td>\n",
              "    </tr>\n",
              "    <tr>\n",
              "      <th>5</th>\n",
              "      <td>5.0</td>\n",
              "      <td>28.25</td>\n",
              "    </tr>\n",
              "  </tbody>\n",
              "</table>\n",
              "</div>"
            ],
            "text/plain": [
              "     X      y\n",
              "0  0.0  10.00\n",
              "1  1.0  13.65\n",
              "2  2.0  17.30\n",
              "3  3.0  20.95\n",
              "4  4.0  24.60\n",
              "5  5.0  28.25"
            ]
          },
          "metadata": {},
          "execution_count": 19
        }
      ]
    },
    {
      "cell_type": "markdown",
      "metadata": {
        "id": "rTGoJB6Epk_U"
      },
      "source": [
        "\n",
        "\n",
        "*   np.vstack()是按行添加数组，np.hstack是按列添加数组\n",
        "*   .T是进行数组转置\n",
        "*   pd.DataFrame（data,index,columns）是将数据转换为表格形式呈现出来,\n",
        "data是待转换数据，index设置表格行号，columns设置表格列号，如果不设置则默认为1234...\n",
        "*   head(n)此函数返回所选数据的前n行数据以供查看，n不设置则默认为5行\n",
        "\n",
        "\n",
        "\n"
      ]
    },
    {
      "cell_type": "code",
      "metadata": {
        "colab": {
          "base_uri": "https://localhost:8080/",
          "height": 281
        },
        "id": "6QqWyskJrCNo",
        "outputId": "3eae2c76-552e-4fae-f2d2-2ac2c15abed4"
      },
      "source": [
        "#散点图\n",
        "plt.title('Generated data')\n",
        "plt.scatter(x=df[\"X\"], y=df[\"y\"])\n",
        "plt.show()"
      ],
      "execution_count": 20,
      "outputs": [
        {
          "output_type": "display_data",
          "data": {
            "image/png": "[encoded data removed]",
            "text/plain": [
              "<Figure size 432x288 with 1 Axes>"
            ]
          },
          "metadata": {
            "needs_background": "light"
          }
        }
      ]
    },
    {
      "cell_type": "markdown",
      "metadata": {
        "id": "U1DUIqRbyYFF"
      },
      "source": [
        "\n",
        "\n",
        "*   title()是给出现的图表起个标题\n",
        "*   scatter(x,y,s,c...)\n",
        "x,y是x轴y轴的数据，是必选的\n",
        "s是数组大小，c是颜色，是可选项，此外还有很多其他可选项不一一列出\n",
        "\n"
      ]
    },
    {
      "cell_type": "code",
      "metadata": {
        "id": "fXFoDOfGYWET"
      },
      "source": [
        "#导入需要的包\n",
        "from sklearn.linear_model import SGDRegressor       \n",
        "from sklearn.preprocessing import StandardScaler     \n",
        "from sklearn.model_selection import train_test_split\n",
        "\n"
      ],
      "execution_count": 21,
      "outputs": []
    },
    {
      "cell_type": "markdown",
      "metadata": {
        "id": "5nuecQCOfhgh"
      },
      "source": [
        "\n",
        "\n",
        "*   SGDRegressor为随机梯度下降函数\n",
        "*   StandardScaler为标准化函数 标准化数据通过减去均值然后除以方差（或标准差），这种数据标准化方法经过处理后数据符合标准正态分布，即均值为0，标准差为1，转化函数为：x =(x - 𝜇)/𝜎\n",
        "*   train_test_split 划分数据\n",
        "\n",
        "\n",
        "\n",
        "\n"
      ]
    },
    {
      "cell_type": "code",
      "metadata": {
        "colab": {
          "base_uri": "https://localhost:8080/"
        },
        "id": "5TRV3Zn9pluE",
        "outputId": "5f456752-a938-4f0a-9718-6e57644cb857"
      },
      "source": [
        "X_train, X_test, y_train, y_test = train_test_split(\n",
        "    df[\"X\"].values.reshape(-1,1), df[\"y\"], train_size = args.train_size,\n",
        "    test_size = args.test_size, random_state = args.seed )\n",
        "print(\"X_train\",X_train.shape)\n",
        "print(\"X_test\",X_test.shape)\n",
        "print(\"y_train\",y_train.shape)\n",
        "print(\"y_test\",y_test.shape)"
      ],
      "execution_count": 22,
      "outputs": [
        {
          "output_type": "stream",
          "name": "stdout",
          "text": [
            "X_train (75, 1)\n",
            "X_test (25, 1)\n",
            "y_train (75,)\n",
            "y_test (25,)\n"
          ]
        }
      ]
    },
    {
      "cell_type": "markdown",
      "metadata": {
        "id": "aGBzaErzr49T"
      },
      "source": [
        "\n",
        "*   此种形式为train_test_split的常用形式\n",
        "*   data.values.reshape(-1,1)是指不管原来的数据是几行几列，重置成一列数据\n",
        "\n"
      ]
    },
    {
      "cell_type": "code",
      "metadata": {
        "colab": {
          "base_uri": "https://localhost:8080/"
        },
        "id": "YDOOhwgus287",
        "outputId": "85a003b2-c632-4788-96f5-d51aaa92232a"
      },
      "source": [
        "#标准化训练集\n",
        "X_scaler = StandardScaler().fit(X_train)\n",
        "y_scaler = StandardScaler().fit(y_train.values.reshape(-1,1))\n",
        "\n",
        "#在训练集和测试集上进行标准化操作\n",
        "\n",
        "standardized_X_train = X_scaler.transform(X_train)\n",
        "standardized_X_test = X_scaler.transform(X_test)\n",
        "standardized_y_train = y_scaler.transform(y_train.values.reshape(-1,1)).ravel()\n",
        "standardized_y_test = y_scaler.transform(y_test.values.reshape(-1,1)).ravel()\n",
        "\n",
        "# 检查\n",
        "print (\"mean:\", np.mean(standardized_X_train, axis=0), \n",
        "       np.mean(standardized_y_train, axis=0)) # mean 应该是 ~0\n",
        "print (\"std:\", np.std(standardized_X_train, axis=0), \n",
        "       np.std(standardized_y_train, axis=0))   # std 应该是 1\n"
      ],
      "execution_count": 23,
      "outputs": [
        {
          "output_type": "stream",
          "name": "stdout",
          "text": [
            "mean: [8.22952817e-17] -1.5617137213060536e-16\n",
            "std: [1.] 0.9999999999999999\n"
          ]
        }
      ]
    },
    {
      "cell_type": "markdown",
      "metadata": {
        "id": "UxP2DdmtLyln"
      },
      "source": [
        "\n",
        "\n",
        "*   StandardScaler.fit()函数用于训练数据的均值和方差\n",
        "*   StandardScaler.transform()函数用于转换数据 ，把数据转成标准的正太分布\n",
        "*   实际使用中常常是fit()和transform联合使用\n",
        "*   先用fit(): scaler = preprocessing.StandardScaler().fit(X)  这一步可以得到scaler，scaler里面存的有计算出来的均值和方差\n",
        "*   再用transform(): scaler.transform(X)  这一步再用scaler中的均值和方差来转换X，使X标准化\n",
        "\n",
        "\n",
        "\n",
        "\n",
        "\n",
        "\n"
      ]
    },
    {
      "cell_type": "code",
      "metadata": {
        "id": "YhN-tWYLMzMe"
      },
      "source": [
        "#初始化模型\n",
        "lm = SGDRegressor(loss=\"squared_loss\", penalty=\"none\", max_iter=args.num_epochs)"
      ],
      "execution_count": 24,
      "outputs": []
    },
    {
      "cell_type": "markdown",
      "metadata": {
        "id": "okDJgp1biRDX"
      },
      "source": [
        "\n",
        "\n",
        "*   SGDRegressorA()函数的参数有很多，本例中涉及到的三个意义为：\n",
        "*   loss:损失函数，默认为squared_loss损失函数平方误差，可选项：‘squared_loss’, ‘huber’,‘epsilon_insensitive’, or‘squared_epsilon_insensitive’\n",
        "\n",
        "‘squared_loss’：平方误差\n",
        "\n",
        "“huber”：修正了“squared_loss”，通过从平方转换到基于epsilon距离的线性损失，减少了对异常值的校正。\n",
        "\n",
        "epsilon_insensitive：epsilon_insensitive’ 忽略小于 epsilon的误差。使用的是SVR的损失函数。\n",
        "\n",
        "'squared_epsilon_insensitive：上面的平方损失\n",
        "*   penelty:直译为惩罚，惩罚项，可选项：‘none’, ‘l2’, ‘l1’, or ‘elasticnet’默认为l2\n",
        "*   max_iter:数据的最大训练轮数，或者说是最大迭代次数\n",
        "*   alpha：常数乘以正则化项。默认值为0.0001，当设置为“最优”时，也用于计算learning_rate。不常用\n",
        "*   l1_ratio：elasticnet弹性网络中l1正则项的程度\n",
        "*   fit_intercept：偏置项\n",
        "*   tol：容忍误差\n",
        "*   shuffle：训练数据是否应该在每个epochs之后重新洗牌。默认值为True。\n",
        "*   只有当huber’, ‘epsilon_insensitive’, or ‘squared_epsilon_insensitive’时可用，对于“huber”来说，它决定了一个阈值，在这个阈值内，不必准确预测。对于epsilon_insensitive’，如果当前的预测与正确的标记之间的差异小于这个阈值，则忽略它们。\n",
        "*   random_state:种子生成器\n",
        "*   learning_rate;学习率，可选‘constant’，‘optimal’:invscaling’，‘adaptive’\n",
        "*   adaptive:自适应改变eta\n",
        "*   eta0:学习率，在‘constant’，‘’invscaling’，‘adaptive’下可用\n",
        "*   power_t:逆标度学习速率的指数\n",
        "*   early_stopping:当验证分数没有提高时，是否使用早期停止终止训练\n",
        "*   validation_fraction：训练集留给验证集的部分，（0,1）直接，且early_stopping设为True\n",
        "*   n_iter_no_change；在early stopping前没有提高性能的迭代次数\n",
        "*   warm_start：是否重新开始\n",
        "*   average：当设置为True时，计算SGD的平均权重，并将结果存储在coef_属性中\n",
        "\n",
        "\n",
        "\n",
        "\n",
        "\n",
        "\n",
        "\n"
      ]
    },
    {
      "cell_type": "code",
      "metadata": {
        "colab": {
          "base_uri": "https://localhost:8080/"
        },
        "id": "di4ZjIGCi_lR",
        "outputId": "b1bec81e-0c92-4902-8f71-f0ac8113188a"
      },
      "source": [
        "#训练\n",
        "lm.fit(X=standardized_X_train, y=standardized_y_train)"
      ],
      "execution_count": 25,
      "outputs": [
        {
          "output_type": "execute_result",
          "data": {
            "text/plain": [
              "SGDRegressor(alpha=0.0001, average=False, early_stopping=False, epsilon=0.1,\n",
              "             eta0=0.01, fit_intercept=True, l1_ratio=0.15,\n",
              "             learning_rate='invscaling', loss='squared_loss', max_iter=100,\n",
              "             n_iter_no_change=5, penalty='none', power_t=0.25,\n",
              "             random_state=None, shuffle=True, tol=0.001,\n",
              "             validation_fraction=0.1, verbose=0, warm_start=False)"
            ]
          },
          "metadata": {},
          "execution_count": 25
        }
      ]
    },
    {
      "cell_type": "markdown",
      "metadata": {
        "id": "-3cDCVDQjast"
      },
      "source": [
        "上面这处显示的就是SGDRegressor的全部参数"
      ]
    },
    {
      "cell_type": "code",
      "metadata": {
        "id": "sis7nd2XnfrW"
      },
      "source": [
        "#预测，还未标准化\n",
        "pred_train = (lm.predict(standardized_X_train) * np.sqrt(y_scaler.var_)) + y_scaler.mean_\n",
        "pred_test = (lm.predict(standardized_X_test) * np.sqrt(y_scaler.var_)) + y_scaler.mean_"
      ],
      "execution_count": 29,
      "outputs": []
    },
    {
      "cell_type": "markdown",
      "metadata": {
        "id": "qx_g51e-t5p5"
      },
      "source": [
        "Standardized.fit()函数训练之后就自带以下参数：\n",
        "\n",
        "scale_： 缩放比例，同时也是标准差\n",
        "\n",
        "mean_： 每个特征的平均值\n",
        "\n",
        "var_:每个特征的方差\n",
        "\n",
        "n_sample_seen_:样本数量，可以通过patial_fit 增加\n",
        "\n",
        "如上面的y_scaler.mean_, y_scaler.var_,还有y_scaler.scale_等"
      ]
    },
    {
      "cell_type": "code",
      "metadata": {
        "colab": {
          "base_uri": "https://localhost:8080/"
        },
        "id": "yXgzbevNt82q",
        "outputId": "f4cb2223-c6b2-4500-c129-eadf354690bd"
      },
      "source": [
        "import matplotlib.pyplot as plt\n",
        "\n",
        "#训练和测试集上的均方误差\n",
        "train_mse = np.mean((y_train - pred_train) ** 2)\n",
        "test_mse = np.mean((y_test - pred_test) ** 2)\n",
        "print(\"train_mse: {0:.2f}, test_mse: {1:.2f}\".format(train_mse, test_mse))\n"
      ],
      "execution_count": 30,
      "outputs": [
        {
          "output_type": "stream",
          "name": "stdout",
          "text": [
            "train_mse: 22.63, test_mse: 24.03\n"
          ]
        }
      ]
    },
    {
      "cell_type": "code",
      "metadata": {
        "colab": {
          "base_uri": "https://localhost:8080/",
          "height": 159
        },
        "id": "0VbT-yWaw1dC",
        "outputId": "f739986e-1725-4699-9a9a-809f2e18c914"
      },
      "source": [
        "# 传入我们自己的输入值\n",
        "X_infer = np.array((0, 1, 2), dtype=np.float32)\n",
        "standardized_X_infer = X_scaler.transform(X_infer.reshape(-1, 1))\n",
        "pred_infer = (lm.predict(standardized_X_infer) * np.sqrt(y_scaler.var_)) + y_scaler.mean_\n",
        "print (pred_infer)\n",
        "df.head(3)"
      ],
      "execution_count": 31,
      "outputs": [
        {
          "output_type": "stream",
          "name": "stdout",
          "text": [
            "[17.61965046 21.10466106 24.58967167]\n"
          ]
        },
        {
          "output_type": "execute_result",
          "data": {
            "text/html": [
              "<div>\n",
              "<style scoped>\n",
              "    .dataframe tbody tr th:only-of-type {\n",
              "        vertical-align: middle;\n",
              "    }\n",
              "\n",
              "    .dataframe tbody tr th {\n",
              "        vertical-align: top;\n",
              "    }\n",
              "\n",
              "    .dataframe thead th {\n",
              "        text-align: right;\n",
              "    }\n",
              "</style>\n",
              "<table border=\"1\" class=\"dataframe\">\n",
              "  <thead>\n",
              "    <tr style=\"text-align: right;\">\n",
              "      <th></th>\n",
              "      <th>X</th>\n",
              "      <th>y</th>\n",
              "    </tr>\n",
              "  </thead>\n",
              "  <tbody>\n",
              "    <tr>\n",
              "      <th>0</th>\n",
              "      <td>0.0</td>\n",
              "      <td>10.00</td>\n",
              "    </tr>\n",
              "    <tr>\n",
              "      <th>1</th>\n",
              "      <td>1.0</td>\n",
              "      <td>13.65</td>\n",
              "    </tr>\n",
              "    <tr>\n",
              "      <th>2</th>\n",
              "      <td>2.0</td>\n",
              "      <td>17.30</td>\n",
              "    </tr>\n",
              "  </tbody>\n",
              "</table>\n",
              "</div>"
            ],
            "text/plain": [
              "     X      y\n",
              "0  0.0  10.00\n",
              "1  1.0  13.65\n",
              "2  2.0  17.30"
            ]
          },
          "metadata": {},
          "execution_count": 31
        }
      ]
    }
  ]
}